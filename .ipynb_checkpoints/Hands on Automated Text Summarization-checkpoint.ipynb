{
 "cells": [
  {
   "cell_type": "code",
   "execution_count": 2,
   "metadata": {},
   "outputs": [
    {
     "name": "stdout",
     "output_type": "stream",
     "text": [
      "Requirement already satisfied: gensim in c:\\users\\dell\\anaconda3\\lib\\site-packages (3.8.0)\n",
      "Requirement already satisfied: smart-open>=1.7.0 in c:\\users\\dell\\anaconda3\\lib\\site-packages (from gensim) (1.8.4)\n",
      "Requirement already satisfied: numpy>=1.11.3 in c:\\users\\dell\\anaconda3\\lib\\site-packages (from gensim) (1.16.2)\n",
      "Requirement already satisfied: scipy>=0.18.1 in c:\\users\\dell\\anaconda3\\lib\\site-packages (from gensim) (1.2.1)\n",
      "Requirement already satisfied: six>=1.5.0 in c:\\users\\dell\\anaconda3\\lib\\site-packages (from gensim) (1.12.0)\n",
      "Requirement already satisfied: requests in c:\\users\\dell\\anaconda3\\lib\\site-packages (from smart-open>=1.7.0->gensim) (2.21.0)\n",
      "Requirement already satisfied: boto3 in c:\\users\\dell\\anaconda3\\lib\\site-packages (from smart-open>=1.7.0->gensim) (1.9.203)\n",
      "Requirement already satisfied: boto>=2.32 in c:\\users\\dell\\anaconda3\\lib\\site-packages (from smart-open>=1.7.0->gensim) (2.49.0)\n",
      "Requirement already satisfied: chardet<3.1.0,>=3.0.2 in c:\\users\\dell\\anaconda3\\lib\\site-packages (from requests->smart-open>=1.7.0->gensim) (3.0.4)\n",
      "Requirement already satisfied: idna<2.9,>=2.5 in c:\\users\\dell\\anaconda3\\lib\\site-packages (from requests->smart-open>=1.7.0->gensim) (2.8)\n",
      "Requirement already satisfied: certifi>=2017.4.17 in c:\\users\\dell\\anaconda3\\lib\\site-packages (from requests->smart-open>=1.7.0->gensim) (2019.3.9)\n",
      "Requirement already satisfied: urllib3<1.25,>=1.21.1 in c:\\users\\dell\\anaconda3\\lib\\site-packages (from requests->smart-open>=1.7.0->gensim) (1.24.1)\n",
      "Requirement already satisfied: s3transfer<0.3.0,>=0.2.0 in c:\\users\\dell\\anaconda3\\lib\\site-packages (from boto3->smart-open>=1.7.0->gensim) (0.2.1)\n",
      "Requirement already satisfied: jmespath<1.0.0,>=0.7.1 in c:\\users\\dell\\anaconda3\\lib\\site-packages (from boto3->smart-open>=1.7.0->gensim) (0.9.4)\n",
      "Requirement already satisfied: botocore<1.13.0,>=1.12.203 in c:\\users\\dell\\anaconda3\\lib\\site-packages (from boto3->smart-open>=1.7.0->gensim) (1.12.203)\n",
      "Requirement already satisfied: docutils<0.15,>=0.10 in c:\\users\\dell\\anaconda3\\lib\\site-packages (from botocore<1.13.0,>=1.12.203->boto3->smart-open>=1.7.0->gensim) (0.14)\n",
      "Requirement already satisfied: python-dateutil<3.0.0,>=2.1; python_version >= \"2.7\" in c:\\users\\dell\\anaconda3\\lib\\site-packages (from botocore<1.13.0,>=1.12.203->boto3->smart-open>=1.7.0->gensim) (2.8.0)\n"
     ]
    }
   ],
   "source": [
    "import sys\n",
    "!{sys.executable} -m pip install gensim"
   ]
  },
  {
   "cell_type": "code",
   "execution_count": 5,
   "metadata": {},
   "outputs": [],
   "source": [
    "from gensim.summarization.summarizer import summarize\n",
    "from gensim.summarization import keywords\n",
    "from nltk.tokenize import word_tokenize\n",
    "from nltk.corpus import stopwords\n",
    "from nltk.stem.wordnet import WordNetLemmatizer\n",
    "\n",
    "import string\n",
    "import gensim\n",
    "import gensim.corpora as corpora\n",
    "\n",
    "from gensim.utils import simple_preprocess\n",
    "from gensim.models import CoherenceModel\n",
    "\n",
    "import nltk"
   ]
  },
  {
   "cell_type": "code",
   "execution_count": 8,
   "metadata": {},
   "outputs": [],
   "source": [
    "text = open(\"Mission_Impossible_6_Review.txt\", \"r\").read()"
   ]
  },
  {
   "cell_type": "code",
   "execution_count": 9,
   "metadata": {},
   "outputs": [
    {
     "name": "stdout",
     "output_type": "stream",
     "text": [
      "Before its release, Mission: Impossible Fallout has been known for two things: the fact that it's the first direct sequel in the series and THAT injury to Tom Cruise.Let's get the injury out of the way first. The shot is in the movie and it will make you wince because you know the context, but otherwise you don't really notice any difference as the stunt in question is just the latest in a long line of deathdefying activities featuring Cruise.What makes more of an impact on the sixth movie in the series is its connection to the previous movie, Rogue Nation, with the return of the villainous Solomon Lane (played creepily again by Sean Harris) and his nefarious Syndicate, who are again threatening the world.With the addition of Ethan Hunt's former wife Julia (Michelle Monaghan) from the third movie, Fallout is immediately given more depth than previous outings and the stakes feel higher, with Ethan Hunt (Cruise) haunted by his past mistakes. However, a downside to this is that the movie is so intent on feeling epic that it's slightly overlong, clocking in at almost two and a half hours.But by the time its breathtaking final third kicks into gear, you'll forgive it that slight niggle as it delivers the best spectacle we've seen this year. At times, even IMAX doesn't feel big enough to contain it.Putting aside the direct connection to the previous movie and the series' first returning director in Christopher McQuarrie, it's pretty much business as usual for Ethan and the IMF. A shadowy offset of the Syndicate calling themselves the Apostles has got their hands on some plutonium and his mission, should he choose to accept it of course, is to track them down and stop them before they can unleash a nuclear disaster on the world.This time around though, the CIA has decided to 'help' out Ethan's team with the addition of August Walker (Henry Cavill), on hand to ensure that if Ethan has to make the tough choice, he makes the right one. There's no possible way this can go wrong, right?What follows is the usual, winning Mission: Impossible mix of spy games, double – and triple – crosses, chases of all kinds and extended set pieces in various locations around the world. Where the series has improved as it's gone on is that there's an added playful edge to it all. It knows it's utterly ludicrous at times and it doesn't care as it's laughing along with you.Everyone involved knows what movie they're in, too, and dutifully plays their role, even outside of the everreliable mainstay trio of Cruise, Simon Pegg and Ving Rhames.One of the most welcome returns is that of Rebecca Ferguson's Ilsa Faust and it's to her credit that, two movies in, you still get sucked into her shady games and have no idea if she's trustworthy. Of the newcomers, Henry Cavill has the biggest role and Fallout makes full use of his considerable frame with some muscular fights, while The Crown's Vanessa Kirby relishes her enigmatic White Widow role, even if she is underused.But you don't really come to a Mission: Impossible movie for the cast, you come for the action – and you will not be disappointed. With impeccable stuntwork and crisp direction, Fallout delivers intense and thrilling set pieces that pack a punch with a weight and realism that few other blockbusters can match. What's more, each one feels like something other action movies might use for a climax. Here though, a skydive through a lightning storm or an extended foot chase through and above London is just the warmup.The climactic and vertigoinducing set piece is, quite simply, extraordinary. Its sustained intensity makes the climb outside the Burj Khalifa in Ghost Protocol feel like a gentle stroll in the park, and just when you think it's got about as crazy as it's going to get, it just takes it up another crowdpleasing level. What's most impressive about it is just how involved you get, even though you're fairly certain they'll succeed. You'll be able to count the number of breaths you take during it on one hand.It's hard to see how they can top it, but we've thought that before in this series and happily been proven wrong. There does feel to be a sense of finality about Fallout, yet we imagine the only thing impossible about the movies at this stage is believing there's any stunt Cruise would look at and go, 'Nah, that's too much for me'.And after you've successfully unclenched every muscle once the Mission: Impossible – Fallout credits roll, you'll be grateful that there's a movie star out there like Cruise willing to put everything on the line for your entertainment. It's astonishing he only broke an ankle.\n",
      "\n"
     ]
    }
   ],
   "source": [
    "print(text)"
   ]
  },
  {
   "cell_type": "code",
   "execution_count": 10,
   "metadata": {},
   "outputs": [],
   "source": [
    "# Memanggil method summarize() yang dimiliki oleh gensim. Langsung menghasilkan summary.\n",
    "\n",
    "def get_summary(text, pct):\n",
    "    summary = summarize(text, ratio = pct, split = True)\n",
    "    return summary\n",
    "\n",
    "# rasio: mau berapa panjang. Misalnya 0,1 = mau diambil kalimat yang banyaknya sama dengan 0,1 dari paragraf (satu paragraf\n",
    "# 10 kalimat, maka summarynya 1 kalimat)\n",
    "# word count menggunakan hitungan kata-kata. misalnya mau summarynya sampai berapa kata, tidak lebih dari jumlah tersebut.\n",
    "# split maksudnya hasilnya ditampilkan dalam bentuk artikel, bukan dalam bentuk list. sudah di-split menggunakan spasi."
   ]
  },
  {
   "cell_type": "code",
   "execution_count": 12,
   "metadata": {},
   "outputs": [],
   "source": [
    "def get_keywords(text):\n",
    "    res = keywords(text, ratio=0.1, words=None, split=False, scores=False, pos_filter=('NN', 'JJ'),\n",
    "                   lemmatize=False, deacc=False)\n",
    "    res = res.split('\\n')\n",
    "    return res\n",
    "\n",
    "# pos_filter itu filter terhadap POS tagnya. Summary diinginkan hanya tersusun dari kata-kata dengan POS tag seperti yang sudah\n",
    "# di-assign."
   ]
  },
  {
   "cell_type": "code",
   "execution_count": 15,
   "metadata": {},
   "outputs": [
    {
     "name": "stdout",
     "output_type": "stream",
     "text": [
      "The Input Text\n",
      "--------------------------\n",
      "Before its release, Mission: Impossible Fallout has been known for two things: the fact that it's the first direct sequel in the series and THAT injury to Tom Cruise.Let's get the injury out of the way first. The shot is in the movie and it will make you wince because you know the context, but otherwise you don't really notice any difference as the stunt in question is just the latest in a long line of deathdefying activities featuring Cruise.What makes more of an impact on the sixth movie in the series is its connection to the previous movie, Rogue Nation, with the return of the villainous Solomon Lane (played creepily again by Sean Harris) and his nefarious Syndicate, who are again threatening the world.With the addition of Ethan Hunt's former wife Julia (Michelle Monaghan) from the third movie, Fallout is immediately given more depth than previous outings and the stakes feel higher, with Ethan Hunt (Cruise) haunted by his past mistakes. However, a downside to this is that the movie is so intent on feeling epic that it's slightly overlong, clocking in at almost two and a half hours.But by the time its breathtaking final third kicks into gear, you'll forgive it that slight niggle as it delivers the best spectacle we've seen this year. At times, even IMAX doesn't feel big enough to contain it.Putting aside the direct connection to the previous movie and the series' first returning director in Christopher McQuarrie, it's pretty much business as usual for Ethan and the IMF. A shadowy offset of the Syndicate calling themselves the Apostles has got their hands on some plutonium and his mission, should he choose to accept it of course, is to track them down and stop them before they can unleash a nuclear disaster on the world.This time around though, the CIA has decided to 'help' out Ethan's team with the addition of August Walker (Henry Cavill), on hand to ensure that if Ethan has to make the tough choice, he makes the right one. There's no possible way this can go wrong, right?What follows is the usual, winning Mission: Impossible mix of spy games, double – and triple – crosses, chases of all kinds and extended set pieces in various locations around the world. Where the series has improved as it's gone on is that there's an added playful edge to it all. It knows it's utterly ludicrous at times and it doesn't care as it's laughing along with you.Everyone involved knows what movie they're in, too, and dutifully plays their role, even outside of the everreliable mainstay trio of Cruise, Simon Pegg and Ving Rhames.One of the most welcome returns is that of Rebecca Ferguson's Ilsa Faust and it's to her credit that, two movies in, you still get sucked into her shady games and have no idea if she's trustworthy. Of the newcomers, Henry Cavill has the biggest role and Fallout makes full use of his considerable frame with some muscular fights, while The Crown's Vanessa Kirby relishes her enigmatic White Widow role, even if she is underused.But you don't really come to a Mission: Impossible movie for the cast, you come for the action – and you will not be disappointed. With impeccable stuntwork and crisp direction, Fallout delivers intense and thrilling set pieces that pack a punch with a weight and realism that few other blockbusters can match. What's more, each one feels like something other action movies might use for a climax. Here though, a skydive through a lightning storm or an extended foot chase through and above London is just the warmup.The climactic and vertigoinducing set piece is, quite simply, extraordinary. Its sustained intensity makes the climb outside the Burj Khalifa in Ghost Protocol feel like a gentle stroll in the park, and just when you think it's got about as crazy as it's going to get, it just takes it up another crowdpleasing level. What's most impressive about it is just how involved you get, even though you're fairly certain they'll succeed. You'll be able to count the number of breaths you take during it on one hand.It's hard to see how they can top it, but we've thought that before in this series and happily been proven wrong. There does feel to be a sense of finality about Fallout, yet we imagine the only thing impossible about the movies at this stage is believing there's any stunt Cruise would look at and go, 'Nah, that's too much for me'.And after you've successfully unclenched every muscle once the Mission: Impossible – Fallout credits roll, you'll be grateful that there's a movie star out there like Cruise willing to put everything on the line for your entertainment. It's astonishing he only broke an ankle.\n",
      "\n",
      "--------------------------\n",
      "Printing Summary\n",
      "--------------------------\n",
      "[\"The shot is in the movie and it will make you wince because you know the context, but otherwise you don't really notice any difference as the stunt in question is just the latest in a long line of deathdefying activities featuring Cruise.What makes more of an impact on the sixth movie in the series is its connection to the previous movie, Rogue Nation, with the return of the villainous Solomon Lane (played creepily again by Sean Harris) and his nefarious Syndicate, who are again threatening the world.With the addition of Ethan Hunt's former wife Julia (Michelle Monaghan) from the third movie, Fallout is immediately given more depth than previous outings and the stakes feel higher, with Ethan Hunt (Cruise) haunted by his past mistakes.\", \"At times, even IMAX doesn't feel big enough to contain it.Putting aside the direct connection to the previous movie and the series' first returning director in Christopher McQuarrie, it's pretty much business as usual for Ethan and the IMF.\", \"A shadowy offset of the Syndicate calling themselves the Apostles has got their hands on some plutonium and his mission, should he choose to accept it of course, is to track them down and stop them before they can unleash a nuclear disaster on the world.This time around though, the CIA has decided to 'help' out Ethan's team with the addition of August Walker (Henry Cavill), on hand to ensure that if Ethan has to make the tough choice, he makes the right one.\", \"There's no possible way this can go wrong, right?What follows is the usual, winning Mission: Impossible mix of spy games, double – and triple – crosses, chases of all kinds and extended set pieces in various locations around the world.\", \"Of the newcomers, Henry Cavill has the biggest role and Fallout makes full use of his considerable frame with some muscular fights, while The Crown's Vanessa Kirby relishes her enigmatic White Widow role, even if she is underused.But you don't really come to a Mission: Impossible movie for the cast, you come for the action – and you will not be disappointed.\"]\n",
      "-------------------------\n",
      "Printing Keywords\n",
      "--------------------------\n",
      "['cruise', 'movie', 'movies', 'feel', 'feeling', 'feels', 'fallout', 'impossible', 'set', 'direct', 'direction', 'games', 'henry', 'played', 'plays', 'playful', 'mainstay', 'return', 'syndicate', 'returning', 'returns', 'kirby', 'overlong']\n"
     ]
    }
   ],
   "source": [
    "print('The Input Text')\n",
    "print('--------------------------')\n",
    "print(text)\n",
    "print('--------------------------')\n",
    "print('Printing Summary')\n",
    "print('--------------------------')\n",
    "print(get_summary(text, 0.3))\n",
    "print ('-------------------------')\n",
    "print('Printing Keywords')\n",
    "print('--------------------------')\n",
    "print(get_keywords(text)) # dari filter POS tag"
   ]
  },
  {
   "cell_type": "code",
   "execution_count": null,
   "metadata": {},
   "outputs": [],
   "source": []
  }
 ],
 "metadata": {
  "kernelspec": {
   "display_name": "Python 3",
   "language": "python",
   "name": "python3"
  },
  "language_info": {
   "codemirror_mode": {
    "name": "ipython",
    "version": 3
   },
   "file_extension": ".py",
   "mimetype": "text/x-python",
   "name": "python",
   "nbconvert_exporter": "python",
   "pygments_lexer": "ipython3",
   "version": "3.7.3"
  }
 },
 "nbformat": 4,
 "nbformat_minor": 2
}
