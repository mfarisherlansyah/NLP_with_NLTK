{
 "cells": [
  {
   "cell_type": "code",
   "execution_count": 2,
   "metadata": {},
   "outputs": [
    {
     "name": "stdout",
     "output_type": "stream",
     "text": [
      "Requirement already satisfied: gensim in c:\\users\\dell\\anaconda3\\lib\\site-packages (3.8.0)\n",
      "Requirement already satisfied: smart-open>=1.7.0 in c:\\users\\dell\\anaconda3\\lib\\site-packages (from gensim) (1.8.4)\n",
      "Requirement already satisfied: numpy>=1.11.3 in c:\\users\\dell\\anaconda3\\lib\\site-packages (from gensim) (1.16.2)\n",
      "Requirement already satisfied: scipy>=0.18.1 in c:\\users\\dell\\anaconda3\\lib\\site-packages (from gensim) (1.2.1)\n",
      "Requirement already satisfied: six>=1.5.0 in c:\\users\\dell\\anaconda3\\lib\\site-packages (from gensim) (1.12.0)\n",
      "Requirement already satisfied: requests in c:\\users\\dell\\anaconda3\\lib\\site-packages (from smart-open>=1.7.0->gensim) (2.21.0)\n",
      "Requirement already satisfied: boto3 in c:\\users\\dell\\anaconda3\\lib\\site-packages (from smart-open>=1.7.0->gensim) (1.9.203)\n",
      "Requirement already satisfied: boto>=2.32 in c:\\users\\dell\\anaconda3\\lib\\site-packages (from smart-open>=1.7.0->gensim) (2.49.0)\n",
      "Requirement already satisfied: chardet<3.1.0,>=3.0.2 in c:\\users\\dell\\anaconda3\\lib\\site-packages (from requests->smart-open>=1.7.0->gensim) (3.0.4)\n",
      "Requirement already satisfied: idna<2.9,>=2.5 in c:\\users\\dell\\anaconda3\\lib\\site-packages (from requests->smart-open>=1.7.0->gensim) (2.8)\n",
      "Requirement already satisfied: certifi>=2017.4.17 in c:\\users\\dell\\anaconda3\\lib\\site-packages (from requests->smart-open>=1.7.0->gensim) (2019.3.9)\n",
      "Requirement already satisfied: urllib3<1.25,>=1.21.1 in c:\\users\\dell\\anaconda3\\lib\\site-packages (from requests->smart-open>=1.7.0->gensim) (1.24.1)\n",
      "Requirement already satisfied: s3transfer<0.3.0,>=0.2.0 in c:\\users\\dell\\anaconda3\\lib\\site-packages (from boto3->smart-open>=1.7.0->gensim) (0.2.1)\n",
      "Requirement already satisfied: jmespath<1.0.0,>=0.7.1 in c:\\users\\dell\\anaconda3\\lib\\site-packages (from boto3->smart-open>=1.7.0->gensim) (0.9.4)\n",
      "Requirement already satisfied: botocore<1.13.0,>=1.12.203 in c:\\users\\dell\\anaconda3\\lib\\site-packages (from boto3->smart-open>=1.7.0->gensim) (1.12.203)\n",
      "Requirement already satisfied: docutils<0.15,>=0.10 in c:\\users\\dell\\anaconda3\\lib\\site-packages (from botocore<1.13.0,>=1.12.203->boto3->smart-open>=1.7.0->gensim) (0.14)\n",
      "Requirement already satisfied: python-dateutil<3.0.0,>=2.1; python_version >= \"2.7\" in c:\\users\\dell\\anaconda3\\lib\\site-packages (from botocore<1.13.0,>=1.12.203->boto3->smart-open>=1.7.0->gensim) (2.8.0)\n"
     ]
    }
   ],
   "source": [
    "import sys\n",
    "!{sys.executable} -m pip install gensim"
   ]
  },
  {
   "cell_type": "code",
   "execution_count": 5,
   "metadata": {},
   "outputs": [],
   "source": [
    "from gensim.summarization.summarizer import summarize\n",
    "from gensim.summarization import keywords\n",
    "from nltk.tokenize import word_tokenize\n",
    "from nltk.corpus import stopwords\n",
    "from nltk.stem.wordnet import WordNetLemmatizer\n",
    "\n",
    "import string\n",
    "import gensim\n",
    "import gensim.corpora as corpora\n",
    "\n",
    "from gensim.utils import simple_preprocess\n",
    "from gensim.models import CoherenceModel\n",
    "\n",
    "import nltk"
   ]
  },
  {
   "cell_type": "code",
   "execution_count": 8,
   "metadata": {},
   "outputs": [],
   "source": [
    "text = open(\"Mission_Impossible_6_Review.txt\", \"r\").read()"
   ]
  },
  {
   "cell_type": "code",
   "execution_count": 9,
   "metadata": {},
   "outputs": [
    {
     "name": "stdout",
     "output_type": "stream",
     "text": [
      "Before its release, Mission: Impossible Fallout has been known for two things: the fact that it's the first direct sequel in the series and THAT injury to Tom Cruise.Let's get the injury out of the way first. The shot is in the movie and it will make you wince because you know the context, but otherwise you don't really notice any difference as the stunt in question is just the latest in a long line of deathdefying activities featuring Cruise.What makes more of an impact on the sixth movie in the series is its connection to the previous movie, Rogue Nation, with the return of the villainous Solomon Lane (played creepily again by Sean Harris) and his nefarious Syndicate, who are again threatening the world.With the addition of Ethan Hunt's former wife Julia (Michelle Monaghan) from the third movie, Fallout is immediately given more depth than previous outings and the stakes feel higher, with Ethan Hunt (Cruise) haunted by his past mistakes. However, a downside to this is that the movie is so intent on feeling epic that it's slightly overlong, clocking in at almost two and a half hours.But by the time its breathtaking final third kicks into gear, you'll forgive it that slight niggle as it delivers the best spectacle we've seen this year. At times, even IMAX doesn't feel big enough to contain it.Putting aside the direct connection to the previous movie and the series' first returning director in Christopher McQuarrie, it's pretty much business as usual for Ethan and the IMF. A shadowy offset of the Syndicate calling themselves the Apostles has got their hands on some plutonium and his mission, should he choose to accept it of course, is to track them down and stop them before they can unleash a nuclear disaster on the world.This time around though, the CIA has decided to 'help' out Ethan's team with the addition of August Walker (Henry Cavill), on hand to ensure that if Ethan has to make the tough choice, he makes the right one. There's no possible way this can go wrong, right?What follows is the usual, winning Mission: Impossible mix of spy games, double – and triple – crosses, chases of all kinds and extended set pieces in various locations around the world. Where the series has improved as it's gone on is that there's an added playful edge to it all. It knows it's utterly ludicrous at times and it doesn't care as it's laughing along with you.Everyone involved knows what movie they're in, too, and dutifully plays their role, even outside of the everreliable mainstay trio of Cruise, Simon Pegg and Ving Rhames.One of the most welcome returns is that of Rebecca Ferguson's Ilsa Faust and it's to her credit that, two movies in, you still get sucked into her shady games and have no idea if she's trustworthy. Of the newcomers, Henry Cavill has the biggest role and Fallout makes full use of his considerable frame with some muscular fights, while The Crown's Vanessa Kirby relishes her enigmatic White Widow role, even if she is underused.But you don't really come to a Mission: Impossible movie for the cast, you come for the action – and you will not be disappointed. With impeccable stuntwork and crisp direction, Fallout delivers intense and thrilling set pieces that pack a punch with a weight and realism that few other blockbusters can match. What's more, each one feels like something other action movies might use for a climax. Here though, a skydive through a lightning storm or an extended foot chase through and above London is just the warmup.The climactic and vertigoinducing set piece is, quite simply, extraordinary. Its sustained intensity makes the climb outside the Burj Khalifa in Ghost Protocol feel like a gentle stroll in the park, and just when you think it's got about as crazy as it's going to get, it just takes it up another crowdpleasing level. What's most impressive about it is just how involved you get, even though you're fairly certain they'll succeed. You'll be able to count the number of breaths you take during it on one hand.It's hard to see how they can top it, but we've thought that before in this series and happily been proven wrong. There does feel to be a sense of finality about Fallout, yet we imagine the only thing impossible about the movies at this stage is believing there's any stunt Cruise would look at and go, 'Nah, that's too much for me'.And after you've successfully unclenched every muscle once the Mission: Impossible – Fallout credits roll, you'll be grateful that there's a movie star out there like Cruise willing to put everything on the line for your entertainment. It's astonishing he only broke an ankle.\n",
      "\n"
     ]
    }
   ],
   "source": [
    "print(text)"
   ]
  },
  {
   "cell_type": "code",
   "execution_count": 10,
   "metadata": {},
   "outputs": [],
   "source": [
    "# Memanggil method summarize() yang dimiliki oleh gensim. Langsung menghasilkan summary.\n",
    "\n",
    "def get_summary(text, pct):\n",
    "    summary = summarize(text, ratio = pct, split = True)\n",
    "    return summary\n",
    "\n",
    "# rasio: mau berapa panjang. Misalnya 0,1 = mau diambil kalimat yang banyaknya sama dengan 0,1 dari paragraf (satu paragraf\n",
    "# 10 kalimat, maka summarynya 1 kalimat)\n",
    "# word count menggunakan hitungan kata-kata. misalnya mau summarynya sampai berapa kata, tidak lebih dari jumlah tersebut.\n",
    "# split maksudnya hasilnya ditampilkan dalam bentuk artikel, bukan dalam bentuk list. sudah di-split menggunakan spasi."
   ]
  },
  {
   "cell_type": "code",
   "execution_count": 12,
   "metadata": {},
   "outputs": [],
   "source": [
    "def get_keywords(text):\n",
    "    res = keywords(text, ratio=0.1, words=None, split=False, scores=False, pos_filter=('NN', 'JJ'),\n",
    "                   lemmatize=False, deacc=False)\n",
    "    res = res.split('\\n')\n",
    "    return res\n",
    "\n",
    "# pos_filter itu filter terhadap POS tagnya. Summary diinginkan hanya tersusun dari kata-kata dengan POS tag seperti yang sudah\n",
    "# di-assign."
   ]
  },
  {
   "cell_type": "code",
   "execution_count": 15,
   "metadata": {},
   "outputs": [
    {
     "name": "stdout",
     "output_type": "stream",
     "text": [
      "The Input Text\n",
      "--------------------------\n",
      "Before its release, Mission: Impossible Fallout has been known for two things: the fact that it's the first direct sequel in the series and THAT injury to Tom Cruise.Let's get the injury out of the way first. The shot is in the movie and it will make you wince because you know the context, but otherwise you don't really notice any difference as the stunt in question is just the latest in a long line of deathdefying activities featuring Cruise.What makes more of an impact on the sixth movie in the series is its connection to the previous movie, Rogue Nation, with the return of the villainous Solomon Lane (played creepily again by Sean Harris) and his nefarious Syndicate, who are again threatening the world.With the addition of Ethan Hunt's former wife Julia (Michelle Monaghan) from the third movie, Fallout is immediately given more depth than previous outings and the stakes feel higher, with Ethan Hunt (Cruise) haunted by his past mistakes. However, a downside to this is that the movie is so intent on feeling epic that it's slightly overlong, clocking in at almost two and a half hours.But by the time its breathtaking final third kicks into gear, you'll forgive it that slight niggle as it delivers the best spectacle we've seen this year. At times, even IMAX doesn't feel big enough to contain it.Putting aside the direct connection to the previous movie and the series' first returning director in Christopher McQuarrie, it's pretty much business as usual for Ethan and the IMF. A shadowy offset of the Syndicate calling themselves the Apostles has got their hands on some plutonium and his mission, should he choose to accept it of course, is to track them down and stop them before they can unleash a nuclear disaster on the world.This time around though, the CIA has decided to 'help' out Ethan's team with the addition of August Walker (Henry Cavill), on hand to ensure that if Ethan has to make the tough choice, he makes the right one. There's no possible way this can go wrong, right?What follows is the usual, winning Mission: Impossible mix of spy games, double – and triple – crosses, chases of all kinds and extended set pieces in various locations around the world. Where the series has improved as it's gone on is that there's an added playful edge to it all. It knows it's utterly ludicrous at times and it doesn't care as it's laughing along with you.Everyone involved knows what movie they're in, too, and dutifully plays their role, even outside of the everreliable mainstay trio of Cruise, Simon Pegg and Ving Rhames.One of the most welcome returns is that of Rebecca Ferguson's Ilsa Faust and it's to her credit that, two movies in, you still get sucked into her shady games and have no idea if she's trustworthy. Of the newcomers, Henry Cavill has the biggest role and Fallout makes full use of his considerable frame with some muscular fights, while The Crown's Vanessa Kirby relishes her enigmatic White Widow role, even if she is underused.But you don't really come to a Mission: Impossible movie for the cast, you come for the action – and you will not be disappointed. With impeccable stuntwork and crisp direction, Fallout delivers intense and thrilling set pieces that pack a punch with a weight and realism that few other blockbusters can match. What's more, each one feels like something other action movies might use for a climax. Here though, a skydive through a lightning storm or an extended foot chase through and above London is just the warmup.The climactic and vertigoinducing set piece is, quite simply, extraordinary. Its sustained intensity makes the climb outside the Burj Khalifa in Ghost Protocol feel like a gentle stroll in the park, and just when you think it's got about as crazy as it's going to get, it just takes it up another crowdpleasing level. What's most impressive about it is just how involved you get, even though you're fairly certain they'll succeed. You'll be able to count the number of breaths you take during it on one hand.It's hard to see how they can top it, but we've thought that before in this series and happily been proven wrong. There does feel to be a sense of finality about Fallout, yet we imagine the only thing impossible about the movies at this stage is believing there's any stunt Cruise would look at and go, 'Nah, that's too much for me'.And after you've successfully unclenched every muscle once the Mission: Impossible – Fallout credits roll, you'll be grateful that there's a movie star out there like Cruise willing to put everything on the line for your entertainment. It's astonishing he only broke an ankle.\n",
      "\n",
      "--------------------------\n",
      "Printing Summary\n",
      "--------------------------\n",
      "[\"The shot is in the movie and it will make you wince because you know the context, but otherwise you don't really notice any difference as the stunt in question is just the latest in a long line of deathdefying activities featuring Cruise.What makes more of an impact on the sixth movie in the series is its connection to the previous movie, Rogue Nation, with the return of the villainous Solomon Lane (played creepily again by Sean Harris) and his nefarious Syndicate, who are again threatening the world.With the addition of Ethan Hunt's former wife Julia (Michelle Monaghan) from the third movie, Fallout is immediately given more depth than previous outings and the stakes feel higher, with Ethan Hunt (Cruise) haunted by his past mistakes.\", \"At times, even IMAX doesn't feel big enough to contain it.Putting aside the direct connection to the previous movie and the series' first returning director in Christopher McQuarrie, it's pretty much business as usual for Ethan and the IMF.\", \"A shadowy offset of the Syndicate calling themselves the Apostles has got their hands on some plutonium and his mission, should he choose to accept it of course, is to track them down and stop them before they can unleash a nuclear disaster on the world.This time around though, the CIA has decided to 'help' out Ethan's team with the addition of August Walker (Henry Cavill), on hand to ensure that if Ethan has to make the tough choice, he makes the right one.\", \"There's no possible way this can go wrong, right?What follows is the usual, winning Mission: Impossible mix of spy games, double – and triple – crosses, chases of all kinds and extended set pieces in various locations around the world.\", \"Of the newcomers, Henry Cavill has the biggest role and Fallout makes full use of his considerable frame with some muscular fights, while The Crown's Vanessa Kirby relishes her enigmatic White Widow role, even if she is underused.But you don't really come to a Mission: Impossible movie for the cast, you come for the action – and you will not be disappointed.\"]\n",
      "-------------------------\n",
      "Printing Keywords\n",
      "--------------------------\n",
      "['cruise', 'movie', 'movies', 'feel', 'feeling', 'feels', 'fallout', 'impossible', 'set', 'direct', 'direction', 'games', 'henry', 'played', 'plays', 'playful', 'mainstay', 'return', 'syndicate', 'returning', 'returns', 'kirby', 'overlong']\n"
     ]
    }
   ],
   "source": [
    "print('The Input Text')\n",
    "print('--------------------------')\n",
    "print(text)\n",
    "print('--------------------------')\n",
    "print('Printing Summary')\n",
    "print('--------------------------')\n",
    "print(get_summary(text, 0.3))\n",
    "print ('-------------------------')\n",
    "print('Printing Keywords')\n",
    "print('--------------------------')\n",
    "print(get_keywords(text)) # dari filter POS tag"
   ]
  },
  {
   "cell_type": "code",
   "execution_count": 1,
   "metadata": {},
   "outputs": [
    {
     "name": "stdout",
     "output_type": "stream",
     "text": [
      "Segmen 4 [Balques Manisang (21:37 13/04/2019)] Bismillahirohmanirohim, Kita mulai lagi segmen keempat. Anda masih menyaksikan Debat capres cawapres pemilu 2019. Mari kita berikan semangat karena dalam segmen ini akan kita lakukan sesi debat terbuka. Pasangan calon presiden dan wakil presiden akan mengajukan pertanyaan dan berinteraksi secara langsung. Pasangan calon presiden dan wakil presiden mendapatkan kesempatan yang sama untuk melempar pertanyaan sebagai pembuka debat kemudian dijawab, ditanggapi, dan kemudian ditanggapi kembali. Perhatikan, durasi mengajukan pertanyaan hanya dua menit, kemudian untuk menjawab juga dua menit dan saling menanggapi masing-masing dua menit dari total durasi kita untuk debat terbuka adalah delapan menit. Ini adalah sesi pertama dari debat terbuka, kami sebagai moderator bertugas mengawal jalannya debat agar berjalan dengan tertib. Dan juga mengingatkan saat waktunya harus bergantian. Kita minta Bapak fokus karena empat tema debat adalah ekonomi, kesejahteraan sosial, keuangan dan investasi, serta perdagangan dan industri. Kami persilahkan calon presiden dan wakil presiden nomor urut 01 Bapak Joko Widodo dan Ma'ruf Amin untuk memulai bertanya pada sesi pertama debat terbuka. Waktunya dua menit dimulai saat Anda bertanya. [Joko Widodo (21:39 13/04/2019)] Pertanyaan kami singkat. Apa yang akan Bapak Prabowo lakukan dalam rangka pengembangan ekonomi digital? Dalam hal ini pengembangan e-sport , mobile legend ke depan. [Balques Manisang (21:39 13/04/2019)] Masih ada 1 menit 35 detik silakan. [Joko Widodo (21:39 13/04/2019)] Cukup. [Balques Manisang (21:39 13/04/2019)] Cukup. Baik silakan pasangan calon presiden dan wakil presiden nomor urut 02, Bapak Prabowo dan Sandiaga untuk menjawab. Durasi dua menit dimulai dari berbicara. [Sandiaga Uno (21:40 13/04/2019)] You wanna test your vice president ? Oke terima kasih Pak Presiden. e-Sport merupakan salah satu sektor yang sangat berkembang seiring dengan pengembangan digital ekonomi dan banyak sekali peminatnya, mobile legend salah satunya. Saya rasa kita memiliki peluang untuk menciptakan produk-produk yang betul-betul menguasai pasar dunia karena sektor ekonomi kreatif ini, para anak-anak muda milenial Indonesia ini hebat-hebat sekali. Saya keliling ke seluruh wilayah Indonesia mereka menanamkan satu optimisme. Saya sebutnya sebagai sebagai generasi POP. Mereka positif, optimis, dan produktif. Strategi kami sangat jelas kembali kepada entrepreneurship dan kunci pemerintah adalah memfasilitasi. Karena kita tidak terlalu bisa meregulasi industri yang sangat cepat berkembang. Pada akhirnya, ujungnya untuk apa? Untuk kesejahteraan rakyat, yaitu dengan membuka lapangan kerja yang seluas luasnya. Jangan sampai Indonesia yang tentunya dengan pasar yang sangat besar ini hanya fokus untuk diserbu oleh produk produk impor. Termasuk produk-produk e-sports . Dan kami akan memfasilitasi pemerintah bekerja sama dengan rumah siap kerja untuk anak muda yang kami luncurkan kemarin, kita akan membuat satu event-event latihan agar kita juga punya juara-juara dunia. Tapi jangan sampai e-sport itu bisa mempengaruhi tentunya generasi ke depan kita tidak memiliki akhlakul yang karimah . Oleh karena itu, kami fokus pengembangan ekosistem ini berbasis ekonomi digital haruslah berujung kepada peluang lapangan pekerjaan bagi anak-anak muda. Rumah siap kerja untuk anak muda siap mengembangkan dan langsung konkrit untuk memberikan strategi khusus pengembangan e-sport . [ Balques Manisang (21:42 13/04/2019)] Waktu Anda habis. [Tomy Ristanto (21:42 13/04/2019)] Tahan. Dua pendukung harap tenang. [Balques Manisang (21:42 13/04/2019)] Ya sudah dijawab. Silakan pasangan calon presiden dan wakil presiden nomor urut 01 menanggapi. Waktunya dua menit. [Joko Widodo (21:42 13/04/2019)] Kita sebagai pemerintah memang harus cepat tanggap dan respon cepat terhadap perubahan-perubahan global yang saat ini terjadi. Barang-barang baru masuk begitu cepatnya setiap hari seperti artificial intelligent, internet of thing, big data, virtual reality . Kalau di bidang keuangan bitcoin, cryptocurrency ini pun juga sama ini ada sebuah profesi yang sekarang ini anak-anak muda senang menjadi gamer , menjadi gamers . Oleh sebab itu pemerintah membangun infrastruktur digital baik broadband dengan kecepatan tinggi palapa ring , 4G, sehingga anak-anak muda kita memiliki infrastruktur dalam mengembangkan profesinya sebagai gamers . Yang kedua membangun ekosistem yang nyaman bagi mereka terus berusaha membuat game dan ini saya kira sebuah peluang yang besar bagi industri game di Indonesia. Kita melihat juga bahwa nilai ekonomi di bidang ini bertumbuh sangat pesat. Catatan yang saya terima di 2017 perputarannya sudah mencapai 11-12 triliun. Dengan pertumbuhan per tahun 25 sampai 30%. Oleh sebab itu jangan sampai kita terlewat merespon setiap perubahan-perubahan yang ada. Kemudian juga kita melihat anggaran-anggaran iklan sekarang bergeser ke sana, bergeser ke sana dalam jumlah yang sangat besar. Ini juga harus dilihat dan diwaspadai sehingga kita merespon dengan regulasi-regulasi yang benar. Kemudian juga menjadi pemain e-sport yang profesional itu butuh sebuah fisik yang baik, butuh latihan-latihan yang detail sehingga betul-betul nanti jadi profesional dunia. [Tomy Ristanto (21:44 13/04/2019)] Harap tenang, ditahan dulu. Tenang. [Balques Manisang (21:44 13/04/2019)] Waktu Anda habis. Berikutnya pasangan calon presiden dan wakil presiden nomor urut 02 untuk menanggapi kembali. Waktunya sama dua menit akan dimulai saat Anda menanggapi. [Prabowo Subianto (21:45 13/04/2019)] Saya memfokuskan nanti kebijakan-kebijakan saya dalam hal-hal yang mendasar. Yang menjawab kebutuhan pangan rakyat Indonesia. Tingkatkan produksi pertanian, tingkatkan penghasilan bagi petani, lindungi penghidupan dan penghasilan nelayan, tingkatkan kualitas hidup buruh, guru honorer. Itu yang saya akan fokus digital-digital itu bagus, tapi rakyat kita butuh swasembada pangan. Pangan dalam harga terjangkau. Kita harus turunkan harga rakyat kita sedang susah kita harus jaga kekayaan Indonesia itu yang akan saya fokus. [Sandiaga Uno (21:45 13/04/2019)] Saya teringat cerita dari saudara Rahman ini anak muda milenial. Saya bertemu di Sidrap Sulawesi Selatan. Beliau menggunakan teknologi di industri pertanian. Dan waktu bertugas di DKI perusahaan milik daerah BUMD Food Station membeli beras dari milenial-milenial yang sekarang masuk ke industri pertanian. Saya kagum mereka memiliki komitmen banyak menyatakan bahwa milenial ini, ya pasti akan ke kota meninggalkan pedesaan. Ternyata banyak sekali milenial-milenial seperti Rahman. Bersama Prabowo-Sandi kita akan ciptakan Rahman-Rahman lain, Rahman-Rahman baru di seluruh wilayah Indonesia. Kita harus mampu anak-anak muda ini dengan teknologi digital. Teknologi yang berkaitan dengan pertanian. Mekanisasi mereka bisa meningkatkan produktivitas dari pada sektor pertanian kita. Jangan terus kita akhirnya harus dibulan-bulani dengan harga bahan pokok yang mahal. Tapi kita juga pada satu saat harus bermimpi bahwa kita bisa mengekspor pangan. Sudah saatnya wis wayahe, Indonesia harus menjadi kekuatan ekonomi pangan dan kekuatan energi dunia. Terima kasih. \n"
     ]
    }
   ],
   "source": [
    "article4 = \"\"\n",
    "with open(\"Transkrip_Sidang4.txt\",'r') as artikel:\n",
    "    for sentence in artikel.readlines():\n",
    "        sentences = sentence.strip()\n",
    "        article4 += sentences+\" \"\n",
    "    \n",
    "print(article4)"
   ]
  },
  {
   "cell_type": "code",
   "execution_count": 2,
   "metadata": {},
   "outputs": [],
   "source": [
    "def get_summary(text, pct):\n",
    "    summary = summarize(text, ratio = pct, split = True)\n",
    "    return summary"
   ]
  },
  {
   "cell_type": "code",
   "execution_count": 9,
   "metadata": {},
   "outputs": [],
   "source": [
    "from nltk.corpus import stopwords\n",
    "\n",
    "stopword_indo = stopwords.words('indonesian')\n",
    "\n",
    "artikel_baru = \"\"\n",
    "\n",
    "for words in nltk.word_tokenize(article4):\n",
    "    if words not in stopword_indo:\n",
    "        artikel_baru += words + \" \""
   ]
  },
  {
   "cell_type": "code",
   "execution_count": 12,
   "metadata": {},
   "outputs": [
    {
     "data": {
      "text/plain": [
       "['indonesia',\n",
       " 'menit',\n",
       " 'ekonomi',\n",
       " 'debat',\n",
       " 'saya memiliki',\n",
       " 'kita',\n",
       " 'digital',\n",
       " 'fokus',\n",
       " 'industri',\n",
       " 'pangan',\n",
       " 'pertanian',\n",
       " 'dunia',\n",
       " 'anak muda milenial',\n",
       " 'rakyat',\n",
       " 'pengembangan',\n",
       " 'presiden',\n",
       " 'rahman',\n",
       " 'pemerintah',\n",
       " 'prabowo',\n",
       " 'anda',\n",
       " 'terima',\n",
       " 'tingkatkan',\n",
       " 'produk',\n",
       " 'harga',\n",
       " 'oleh',\n",
       " 'dan']"
      ]
     },
     "execution_count": 12,
     "metadata": {},
     "output_type": "execute_result"
    }
   ],
   "source": [
    "def get_keywords(text):\n",
    "    res = keywords(text, ratio=0.1, words=None, split=False, scores=False, pos_filter=('NN', 'JJ'),\n",
    "                   lemmatize=False, deacc=False)\n",
    "    res = res.split('\\n')\n",
    "    return res\n",
    "\n",
    "get_keywords(artikel_baru)"
   ]
  },
  {
   "cell_type": "code",
   "execution_count": 11,
   "metadata": {},
   "outputs": [
    {
     "name": "stdout",
     "output_type": "stream",
     "text": [
      "The Input Text\n",
      "--------------------\n",
      "Segmen 4 [Balques Manisang (21:37 13/04/2019)] Bismillahirohmanirohim, Kita mulai lagi segmen keempat. Anda masih menyaksikan Debat capres cawapres pemilu 2019. Mari kita berikan semangat karena dalam segmen ini akan kita lakukan sesi debat terbuka. Pasangan calon presiden dan wakil presiden akan mengajukan pertanyaan dan berinteraksi secara langsung. Pasangan calon presiden dan wakil presiden mendapatkan kesempatan yang sama untuk melempar pertanyaan sebagai pembuka debat kemudian dijawab, ditanggapi, dan kemudian ditanggapi kembali. Perhatikan, durasi mengajukan pertanyaan hanya dua menit, kemudian untuk menjawab juga dua menit dan saling menanggapi masing-masing dua menit dari total durasi kita untuk debat terbuka adalah delapan menit. Ini adalah sesi pertama dari debat terbuka, kami sebagai moderator bertugas mengawal jalannya debat agar berjalan dengan tertib. Dan juga mengingatkan saat waktunya harus bergantian. Kita minta Bapak fokus karena empat tema debat adalah ekonomi, kesejahteraan sosial, keuangan dan investasi, serta perdagangan dan industri. Kami persilahkan calon presiden dan wakil presiden nomor urut 01 Bapak Joko Widodo dan Ma'ruf Amin untuk memulai bertanya pada sesi pertama debat terbuka. Waktunya dua menit dimulai saat Anda bertanya. [Joko Widodo (21:39 13/04/2019)] Pertanyaan kami singkat. Apa yang akan Bapak Prabowo lakukan dalam rangka pengembangan ekonomi digital? Dalam hal ini pengembangan e-sport , mobile legend ke depan. [Balques Manisang (21:39 13/04/2019)] Masih ada 1 menit 35 detik silakan. [Joko Widodo (21:39 13/04/2019)] Cukup. [Balques Manisang (21:39 13/04/2019)] Cukup. Baik silakan pasangan calon presiden dan wakil presiden nomor urut 02, Bapak Prabowo dan Sandiaga untuk menjawab. Durasi dua menit dimulai dari berbicara. [Sandiaga Uno (21:40 13/04/2019)] You wanna test your vice president ? Oke terima kasih Pak Presiden. e-Sport merupakan salah satu sektor yang sangat berkembang seiring dengan pengembangan digital ekonomi dan banyak sekali peminatnya, mobile legend salah satunya. Saya rasa kita memiliki peluang untuk menciptakan produk-produk yang betul-betul menguasai pasar dunia karena sektor ekonomi kreatif ini, para anak-anak muda milenial Indonesia ini hebat-hebat sekali. Saya keliling ke seluruh wilayah Indonesia mereka menanamkan satu optimisme. Saya sebutnya sebagai sebagai generasi POP. Mereka positif, optimis, dan produktif. Strategi kami sangat jelas kembali kepada entrepreneurship dan kunci pemerintah adalah memfasilitasi. Karena kita tidak terlalu bisa meregulasi industri yang sangat cepat berkembang. Pada akhirnya, ujungnya untuk apa? Untuk kesejahteraan rakyat, yaitu dengan membuka lapangan kerja yang seluas luasnya. Jangan sampai Indonesia yang tentunya dengan pasar yang sangat besar ini hanya fokus untuk diserbu oleh produk produk impor. Termasuk produk-produk e-sports . Dan kami akan memfasilitasi pemerintah bekerja sama dengan rumah siap kerja untuk anak muda yang kami luncurkan kemarin, kita akan membuat satu event-event latihan agar kita juga punya juara-juara dunia. Tapi jangan sampai e-sport itu bisa mempengaruhi tentunya generasi ke depan kita tidak memiliki akhlakul yang karimah . Oleh karena itu, kami fokus pengembangan ekosistem ini berbasis ekonomi digital haruslah berujung kepada peluang lapangan pekerjaan bagi anak-anak muda. Rumah siap kerja untuk anak muda siap mengembangkan dan langsung konkrit untuk memberikan strategi khusus pengembangan e-sport . [ Balques Manisang (21:42 13/04/2019)] Waktu Anda habis. [Tomy Ristanto (21:42 13/04/2019)] Tahan. Dua pendukung harap tenang. [Balques Manisang (21:42 13/04/2019)] Ya sudah dijawab. Silakan pasangan calon presiden dan wakil presiden nomor urut 01 menanggapi. Waktunya dua menit. [Joko Widodo (21:42 13/04/2019)] Kita sebagai pemerintah memang harus cepat tanggap dan respon cepat terhadap perubahan-perubahan global yang saat ini terjadi. Barang-barang baru masuk begitu cepatnya setiap hari seperti artificial intelligent, internet of thing, big data, virtual reality . Kalau di bidang keuangan bitcoin, cryptocurrency ini pun juga sama ini ada sebuah profesi yang sekarang ini anak-anak muda senang menjadi gamer , menjadi gamers . Oleh sebab itu pemerintah membangun infrastruktur digital baik broadband dengan kecepatan tinggi palapa ring , 4G, sehingga anak-anak muda kita memiliki infrastruktur dalam mengembangkan profesinya sebagai gamers . Yang kedua membangun ekosistem yang nyaman bagi mereka terus berusaha membuat game dan ini saya kira sebuah peluang yang besar bagi industri game di Indonesia. Kita melihat juga bahwa nilai ekonomi di bidang ini bertumbuh sangat pesat. Catatan yang saya terima di 2017 perputarannya sudah mencapai 11-12 triliun. Dengan pertumbuhan per tahun 25 sampai 30%. Oleh sebab itu jangan sampai kita terlewat merespon setiap perubahan-perubahan yang ada. Kemudian juga kita melihat anggaran-anggaran iklan sekarang bergeser ke sana, bergeser ke sana dalam jumlah yang sangat besar. Ini juga harus dilihat dan diwaspadai sehingga kita merespon dengan regulasi-regulasi yang benar. Kemudian juga menjadi pemain e-sport yang profesional itu butuh sebuah fisik yang baik, butuh latihan-latihan yang detail sehingga betul-betul nanti jadi profesional dunia. [Tomy Ristanto (21:44 13/04/2019)] Harap tenang, ditahan dulu. Tenang. [Balques Manisang (21:44 13/04/2019)] Waktu Anda habis. Berikutnya pasangan calon presiden dan wakil presiden nomor urut 02 untuk menanggapi kembali. Waktunya sama dua menit akan dimulai saat Anda menanggapi. [Prabowo Subianto (21:45 13/04/2019)] Saya memfokuskan nanti kebijakan-kebijakan saya dalam hal-hal yang mendasar. Yang menjawab kebutuhan pangan rakyat Indonesia. Tingkatkan produksi pertanian, tingkatkan penghasilan bagi petani, lindungi penghidupan dan penghasilan nelayan, tingkatkan kualitas hidup buruh, guru honorer. Itu yang saya akan fokus digital-digital itu bagus, tapi rakyat kita butuh swasembada pangan. Pangan dalam harga terjangkau. Kita harus turunkan harga rakyat kita sedang susah kita harus jaga kekayaan Indonesia itu yang akan saya fokus. [Sandiaga Uno (21:45 13/04/2019)] Saya teringat cerita dari saudara Rahman ini anak muda milenial. Saya bertemu di Sidrap Sulawesi Selatan. Beliau menggunakan teknologi di industri pertanian. Dan waktu bertugas di DKI perusahaan milik daerah BUMD Food Station membeli beras dari milenial-milenial yang sekarang masuk ke industri pertanian. Saya kagum mereka memiliki komitmen banyak menyatakan bahwa milenial ini, ya pasti akan ke kota meninggalkan pedesaan. Ternyata banyak sekali milenial-milenial seperti Rahman. Bersama Prabowo-Sandi kita akan ciptakan Rahman-Rahman lain, Rahman-Rahman baru di seluruh wilayah Indonesia. Kita harus mampu anak-anak muda ini dengan teknologi digital. Teknologi yang berkaitan dengan pertanian. Mekanisasi mereka bisa meningkatkan produktivitas dari pada sektor pertanian kita. Jangan terus kita akhirnya harus dibulan-bulani dengan harga bahan pokok yang mahal. Tapi kita juga pada satu saat harus bermimpi bahwa kita bisa mengekspor pangan. Sudah saatnya wis wayahe, Indonesia harus menjadi kekuatan ekonomi pangan dan kekuatan energi dunia. Terima kasih. \n",
      "--------------------\n",
      "Printing Summary\n",
      "--------------------\n",
      "['Pasangan calon presiden dan wakil presiden mendapatkan kesempatan yang sama untuk melempar pertanyaan sebagai pembuka debat kemudian dijawab, ditanggapi, dan kemudian ditanggapi kembali.', \"Kami persilahkan calon presiden dan wakil presiden nomor urut 01 Bapak Joko Widodo dan Ma'ruf Amin untuk memulai bertanya pada sesi pertama debat terbuka.\", 'Baik silakan pasangan calon presiden dan wakil presiden nomor urut 02, Bapak Prabowo dan Sandiaga untuk menjawab.', 'e-Sport merupakan salah satu sektor yang sangat berkembang seiring dengan pengembangan digital ekonomi dan banyak sekali peminatnya, mobile legend salah satunya.', 'Saya rasa kita memiliki peluang untuk menciptakan produk-produk yang betul-betul menguasai pasar dunia karena sektor ekonomi kreatif ini, para anak-anak muda milenial Indonesia ini hebat-hebat sekali.', 'Dan kami akan memfasilitasi pemerintah bekerja sama dengan rumah siap kerja untuk anak muda yang kami luncurkan kemarin, kita akan membuat satu event-event latihan agar kita juga punya juara-juara dunia.', 'Ini juga harus dilihat dan diwaspadai sehingga kita merespon dengan regulasi-regulasi yang benar.']\n",
      "--------------------\n",
      "Printing Keywords\n",
      "--------------------\n",
      "['indonesia', 'menit', 'ekonomi', 'debat', 'saya memiliki', 'kita', 'digital', 'fokus', 'industri', 'pangan', 'pertanian', 'dunia', 'anak muda milenial', 'rakyat', 'pengembangan', 'presiden', 'rahman', 'pemerintah', 'prabowo', 'anda', 'terima', 'tingkatkan', 'produk', 'harga', 'oleh', 'dan']\n"
     ]
    }
   ],
   "source": [
    "print('The Input Text')\n",
    "print('--------------------')\n",
    "print(article4)\n",
    "print('--------------------')\n",
    "print('Printing Summary')\n",
    "print('--------------------')\n",
    "print(get_summary(article4,0.1))\n",
    "print('--------------------')\n",
    "print('Printing Keywords')\n",
    "print('--------------------')\n",
    "print(get_keywords(artikel_baru))"
   ]
  },
  {
   "cell_type": "code",
   "execution_count": null,
   "metadata": {},
   "outputs": [],
   "source": []
  }
 ],
 "metadata": {
  "kernelspec": {
   "display_name": "Python 3",
   "language": "python",
   "name": "python3"
  },
  "language_info": {
   "codemirror_mode": {
    "name": "ipython",
    "version": 3
   },
   "file_extension": ".py",
   "mimetype": "text/x-python",
   "name": "python",
   "nbconvert_exporter": "python",
   "pygments_lexer": "ipython3",
   "version": "3.7.3"
  }
 },
 "nbformat": 4,
 "nbformat_minor": 2
}
